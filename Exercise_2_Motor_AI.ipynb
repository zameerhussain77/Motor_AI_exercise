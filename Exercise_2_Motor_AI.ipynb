{
 "cells": [
  {
   "cell_type": "code",
   "execution_count": 1,
   "id": "4ca0a653-632a-4f05-aa0c-e65514ec6537",
   "metadata": {},
   "outputs": [
    {
     "name": "stdout",
     "output_type": "stream",
     "text": [
      "Requirement already satisfied: rasterio in /opt/conda/lib/python3.10/site-packages (1.3.6)\n",
      "Requirement already satisfied: fiona in /opt/conda/lib/python3.10/site-packages (1.9.2)\n",
      "Requirement already satisfied: numpy in /opt/conda/lib/python3.10/site-packages (1.23.5)\n",
      "Requirement already satisfied: cligj>=0.5 in /opt/conda/lib/python3.10/site-packages (from rasterio) (0.7.2)\n",
      "Requirement already satisfied: snuggs>=1.4.1 in /opt/conda/lib/python3.10/site-packages (from rasterio) (1.4.7)\n",
      "Requirement already satisfied: attrs in /opt/conda/lib/python3.10/site-packages (from rasterio) (22.2.0)\n",
      "Requirement already satisfied: click-plugins in /opt/conda/lib/python3.10/site-packages (from rasterio) (1.1.1)\n",
      "Requirement already satisfied: certifi in /opt/conda/lib/python3.10/site-packages (from rasterio) (2022.12.7)\n",
      "Requirement already satisfied: setuptools in /opt/conda/lib/python3.10/site-packages (from rasterio) (67.6.1)\n",
      "Requirement already satisfied: affine in /opt/conda/lib/python3.10/site-packages (from rasterio) (2.4.0)\n",
      "Requirement already satisfied: click>=4.0 in /opt/conda/lib/python3.10/site-packages (from rasterio) (8.1.3)\n",
      "Requirement already satisfied: munch>=2.3.2 in /opt/conda/lib/python3.10/site-packages (from fiona) (2.5.0)\n",
      "Requirement already satisfied: six in /opt/conda/lib/python3.10/site-packages (from munch>=2.3.2->fiona) (1.16.0)\n",
      "Requirement already satisfied: pyparsing>=2.1.6 in /opt/conda/lib/python3.10/site-packages (from snuggs>=1.4.1->rasterio) (3.0.9)\n"
     ]
    }
   ],
   "source": [
    "# Install required libraries\n",
    "!pip install rasterio fiona numpy"
   ]
  },
  {
   "cell_type": "code",
   "execution_count": 2,
   "id": "3e8fd008-78eb-4aae-a876-f3c241feffa9",
   "metadata": {},
   "outputs": [],
   "source": [
    "# Import the required libraries\n",
    "import os\n",
    "import rasterio\n",
    "import fiona\n",
    "from rasterio.features import rasterize\n",
    "import numpy as np\n"
   ]
  },
  {
   "cell_type": "code",
   "execution_count": 3,
   "id": "da458a04-f718-4320-b74d-64402fa8a6af",
   "metadata": {},
   "outputs": [],
   "source": [
    "# Define input folder and output raster path\n",
    "input_folder = 'dataset'  \n",
    "output_raster = 'output_combined_mask_final.tif'\n",
    "\n",
    "# Define pixel values for each feature as specified\n",
    "pixel_values = {\n",
    "    'road_bound': [0, 0, 200],\n",
    "    'buildings': [255, 0, 0],\n",
    "    'road_markings': {\n",
    "        'broken_line': [0, 20, 10],\n",
    "        'cycle_lane': [0, 40, 0],\n",
    "        'dashed_line': [0, 45, 70],\n",
    "        'pedestrian_crossing': [0, 100, 0],\n",
    "        'solid_line': [0, 45, 0],\n",
    "        'stop_line': [0, 85, 0]\n",
    "    },\n",
    "    'null': [180, 180, 180]  # Light gray color for null values\n",
    "}\n"
   ]
  },
  {
   "cell_type": "code",
   "execution_count": 4,
   "id": "a3c10de5-d68c-4ca7-8a30-2cd82788c631",
   "metadata": {},
   "outputs": [],
   "source": [
    "def check_shapefile_components(shapefile_path):\n",
    "    base_path = os.path.splitext(shapefile_path)[0]\n",
    "    required_extensions = ['.shp', '.shx', '.dbf', '.prj']\n",
    "    \n",
    "    for ext in required_extensions:\n",
    "        component_path = base_path + ext\n",
    "        if not os.path.exists(component_path):\n",
    "            raise FileNotFoundError(f\"Shapefile component not found: {component_path}\")\n",
    "\n"
   ]
  },
  {
   "cell_type": "code",
   "execution_count": 5,
   "id": "b8929dc4-0745-47bb-8665-029065888173",
   "metadata": {},
   "outputs": [],
   "source": [
    "  def burn_features(shapefile, value, rows, cols, transform):\n",
    "    shapefile_path = os.path.join(input_folder, shapefile)\n",
    "    check_shapefile_components(shapefile_path)\n",
    "    \n",
    "    with fiona.open(shapefile_path) as shp:\n",
    "        print(f\"Rasterizing {shapefile} with value {value}\")\n",
    "        shapes = [(feature['geometry'], 1) for feature in shp]  # Using 1 as a dummy value to burn\n",
    "        return rasterize(shapes, out_shape=(rows, cols), transform=transform)\n"
   ]
  },
  {
   "cell_type": "code",
   "execution_count": 6,
   "id": "ac80eab2-6e72-4628-9d3d-503bda6879ba",
   "metadata": {},
   "outputs": [],
   "source": [
    "def rasterize_vector(input_folder, output_raster, pixel_values):\n",
    "    raster_path = os.path.join(input_folder, 'raster_data.tif')\n",
    "    \n",
    "    if not os.path.exists(raster_path):\n",
    "        raise FileNotFoundError(f\"Raster file not found: {raster_path}\")\n",
    "    \n",
    "    # Open the base raster to get dimensions and geotransformation\n",
    "    with rasterio.open(raster_path) as src:\n",
    "        meta = src.meta.copy()\n",
    "        cols, rows = src.width, src.height\n",
    "        transform = src.transform\n",
    "\n",
    "    # Create a new raster to store the mask\n",
    "    meta.update(count=3, dtype=rasterio.uint8)\n",
    "    \n",
    "    # Initialize an array to store pixel values\n",
    "    raster_data = np.zeros((rows, cols, 3), dtype=np.uint8)\n",
    "    \n",
    "    # Rasterize road bound\n",
    "    road_bound = burn_features('road_bound.shp', pixel_values['road_bound'], rows, cols, transform)\n",
    "    raster_data[:, :, 0] += road_bound * pixel_values['road_bound'][0]\n",
    "    raster_data[:, :, 1] += road_bound * pixel_values['road_bound'][1]\n",
    "    raster_data[:, :, 2] += road_bound * pixel_values['road_bound'][2]\n",
    "    \n",
    "    # Check and print road bound raster\n",
    "    print(\"Road Bound Raster: \", np.unique(road_bound, return_counts=True))\n",
    "    \n",
    "    # Rasterize buildings\n",
    "    buildings = burn_features('buildings.shp', pixel_values['buildings'], rows, cols, transform)\n",
    "    raster_data[:, :, 0] = np.maximum(raster_data[:, :, 0], buildings * pixel_values['buildings'][0])\n",
    "    raster_data[:, :, 1] = np.maximum(raster_data[:, :, 1], buildings * pixel_values['buildings'][1])\n",
    "    raster_data[:, :, 2] = np.maximum(raster_data[:, :, 2], buildings * pixel_values['buildings'][2])\n",
    "    \n",
    "    # Check and print buildings raster\n",
    "    print(\"Buildings Raster: \", np.unique(buildings, return_counts=True))\n",
    "    \n",
    "    # Rasterize road markings\n",
    "    for marking_type, color_values in pixel_values['road_markings'].items():\n",
    "        road_markings = burn_features('road_markings.shp', color_values, rows, cols, transform)\n",
    "        raster_data[:, :, 0] = np.maximum(raster_data[:, :, 0], road_markings * color_values[0])\n",
    "        raster_data[:, :, 1] = np.maximum(raster_data[:, :, 1], road_markings * color_values[1])\n",
    "        raster_data[:, :, 2] = np.maximum(raster_data[:, :, 2], road_markings * color_values[2])\n",
    "        \n",
    "        # Check and print road markings raster\n",
    "        print(f\"Road Markings Raster ({marking_type}): \", np.unique(road_markings, return_counts=True))\n",
    "    \n",
    "    # Handle null values (black areas)\n",
    "    null_mask = (raster_data[:, :, 0] == 0) & (raster_data[:, :, 1] == 0) & (raster_data[:, :, 2] == 0)\n",
    "    raster_data[null_mask] = pixel_values['null']\n",
    "    \n",
    "    # Write raster data to the output raster\n",
    "    with rasterio.open(output_raster, 'w', **meta) as dst:\n",
    "        dst.write(raster_data[:, :, 0], 1)\n",
    "        dst.write(raster_data[:, :, 1], 2)\n",
    "        dst.write(raster_data[:, :, 2], 3)\n"
   ]
  },
  {
   "cell_type": "code",
   "execution_count": 7,
   "id": "330c539c-fb57-4e5b-af9b-daac6acdd542",
   "metadata": {},
   "outputs": [
    {
     "name": "stdout",
     "output_type": "stream",
     "text": [
      "Rasterizing road_bound.shp with value [0, 0, 200]\n",
      "Road Bound Raster:  (array([0, 1], dtype=uint8), array([194618,  67526]))\n",
      "Rasterizing buildings.shp with value [255, 0, 0]\n",
      "Buildings Raster:  (array([0, 1], dtype=uint8), array([222116,  40028]))\n",
      "Rasterizing road_markings.shp with value [0, 20, 10]\n",
      "Road Markings Raster (broken_line):  (array([0, 1], dtype=uint8), array([254264,   7880]))\n",
      "Rasterizing road_markings.shp with value [0, 40, 0]\n",
      "Road Markings Raster (cycle_lane):  (array([0, 1], dtype=uint8), array([254264,   7880]))\n",
      "Rasterizing road_markings.shp with value [0, 45, 70]\n",
      "Road Markings Raster (dashed_line):  (array([0, 1], dtype=uint8), array([254264,   7880]))\n",
      "Rasterizing road_markings.shp with value [0, 100, 0]\n",
      "Road Markings Raster (pedestrian_crossing):  (array([0, 1], dtype=uint8), array([254264,   7880]))\n",
      "Rasterizing road_markings.shp with value [0, 45, 0]\n",
      "Road Markings Raster (solid_line):  (array([0, 1], dtype=uint8), array([254264,   7880]))\n",
      "Rasterizing road_markings.shp with value [0, 85, 0]\n",
      "Road Markings Raster (stop_line):  (array([0, 1], dtype=uint8), array([254264,   7880]))\n",
      "Raster mask successfully created: output_combined_mask_final.tif\n"
     ]
    }
   ],
   "source": [
    "# Call the function to rasterize vector data into a single raster mask\n",
    "rasterize_vector(input_folder, output_raster, pixel_values)\n",
    "\n",
    "print(f\"Raster mask successfully created: {output_raster}\")\n",
    "\n"
   ]
  },
  {
   "cell_type": "code",
   "execution_count": null,
   "id": "4cd4a2f0-13f0-4b69-beed-8f7841c42d38",
   "metadata": {},
   "outputs": [],
   "source": []
  },
  {
   "cell_type": "code",
   "execution_count": null,
   "id": "e1e19b94-66e8-4e7a-9ced-6f1a1e6965ef",
   "metadata": {},
   "outputs": [],
   "source": []
  },
  {
   "cell_type": "code",
   "execution_count": null,
   "id": "07375ab4-8271-4614-87de-f082081642db",
   "metadata": {},
   "outputs": [],
   "source": []
  },
  {
   "cell_type": "code",
   "execution_count": null,
   "id": "8a2e6e1c-c858-4aba-8310-fa966d54d231",
   "metadata": {},
   "outputs": [],
   "source": []
  },
  {
   "cell_type": "code",
   "execution_count": null,
   "id": "d09ccf31-e120-4b75-824d-6f03ee6f33e1",
   "metadata": {},
   "outputs": [],
   "source": []
  },
  {
   "cell_type": "code",
   "execution_count": null,
   "id": "9723a218-04cc-4a63-b814-6e07e982b7ba",
   "metadata": {},
   "outputs": [],
   "source": []
  },
  {
   "cell_type": "code",
   "execution_count": null,
   "id": "e10d2370-319f-41e4-a445-0647c57eebfc",
   "metadata": {},
   "outputs": [],
   "source": []
  },
  {
   "cell_type": "code",
   "execution_count": null,
   "id": "ce8f1b06-d40b-45d3-ba0e-fe218e4e51f3",
   "metadata": {},
   "outputs": [],
   "source": []
  },
  {
   "cell_type": "code",
   "execution_count": null,
   "id": "cf7167f2-44e1-4efe-b41d-e3ed04f8ab9f",
   "metadata": {},
   "outputs": [],
   "source": []
  },
  {
   "cell_type": "code",
   "execution_count": null,
   "id": "1bd57759-67e4-4c4c-aad9-68bae7f90096",
   "metadata": {},
   "outputs": [],
   "source": []
  },
  {
   "cell_type": "code",
   "execution_count": null,
   "id": "5f430aa7-8711-45f1-a109-f16713137419",
   "metadata": {},
   "outputs": [],
   "source": []
  },
  {
   "cell_type": "code",
   "execution_count": null,
   "id": "2727f736-021b-4691-936f-de1e4ab003ee",
   "metadata": {},
   "outputs": [],
   "source": []
  },
  {
   "cell_type": "code",
   "execution_count": null,
   "id": "99fd4826-a069-437c-9bf9-188ebf2b92e1",
   "metadata": {},
   "outputs": [],
   "source": []
  },
  {
   "cell_type": "code",
   "execution_count": null,
   "id": "36bb3c88-a8cc-4eef-b40b-075eb8f3a2f0",
   "metadata": {},
   "outputs": [],
   "source": []
  },
  {
   "cell_type": "code",
   "execution_count": null,
   "id": "8ab5c683-be05-4c05-ac60-3d45f96c59cf",
   "metadata": {},
   "outputs": [],
   "source": []
  }
 ],
 "metadata": {
  "kernelspec": {
   "display_name": "Python 3 (ipykernel)",
   "language": "python",
   "name": "python3"
  },
  "language_info": {
   "codemirror_mode": {
    "name": "ipython",
    "version": 3
   },
   "file_extension": ".py",
   "mimetype": "text/x-python",
   "name": "python",
   "nbconvert_exporter": "python",
   "pygments_lexer": "ipython3",
   "version": "3.10.10"
  }
 },
 "nbformat": 4,
 "nbformat_minor": 5
}
